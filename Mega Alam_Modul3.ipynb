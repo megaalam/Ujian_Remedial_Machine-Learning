{
 "cells": [
  {
   "cell_type": "code",
   "execution_count": 1,
   "metadata": {},
   "outputs": [],
   "source": [
    "import pandas as pd\n",
    "import numpy as np"
   ]
  },
  {
   "cell_type": "markdown",
   "metadata": {},
   "source": [
    "## 1. Data Cleaning & Preprocessing"
   ]
  },
  {
   "cell_type": "markdown",
   "metadata": {},
   "source": [
    "Rooms: Number of rooms\n",
    "\n",
    "Price: Price in dollars\n",
    "\n",
    "Method: S - property sold; SP - property sold prior; PI - property passed in; PN - sold prior not disclosed; SN - sold not disclosed; NB - no bid; VB - vendor bid; W - withdrawn prior to auction; SA - sold after auction; SS - sold after auction price not disclosed. N/A - price or highest bid not available.\n",
    "\n",
    "Type: br - bedroom(s); h - house,cottage,villa, semi,terrace; u - unit, duplex; t - townhouse; dev site - development site; o res - other residential.\n",
    "\n",
    "SellerG: Real Estate Agent\n",
    "\n",
    "Date: Date sold\n",
    "\n",
    "Distance: Distance from CBD\n",
    "\n",
    "Regionname: General Region (West, North West, North, North east …etc)\n",
    "\n",
    "Propertycount: Number of properties that exist in the suburb.\n",
    "\n",
    "Bedroom2 : Scraped # of Bedrooms (from different source)\n",
    "\n",
    "Bathroom: Number of Bathrooms\n",
    "\n",
    "Car: Number of carspots\n",
    "\n",
    "Landsize: Land Size\n",
    "\n",
    "BuildingArea: Building Size\n",
    "\n",
    "CouncilArea: Governing council for the area"
   ]
  },
  {
   "cell_type": "code",
   "execution_count": 2,
   "metadata": {},
   "outputs": [],
   "source": [
    "melb = pd.read_csv('melb_data.csv')"
   ]
  },
  {
   "cell_type": "code",
   "execution_count": 3,
   "metadata": {},
   "outputs": [],
   "source": [
    "# Batasan soal pada ujian, diambil 5000 data pertama. Dataset yang akan digunakan untuk modeling :\n",
    "df = melb.loc[0:4999]"
   ]
  },
  {
   "cell_type": "code",
   "execution_count": 4,
   "metadata": {},
   "outputs": [
    {
     "data": {
      "text/html": [
       "<div>\n",
       "<style scoped>\n",
       "    .dataframe tbody tr th:only-of-type {\n",
       "        vertical-align: middle;\n",
       "    }\n",
       "\n",
       "    .dataframe tbody tr th {\n",
       "        vertical-align: top;\n",
       "    }\n",
       "\n",
       "    .dataframe thead th {\n",
       "        text-align: right;\n",
       "    }\n",
       "</style>\n",
       "<table border=\"1\" class=\"dataframe\">\n",
       "  <thead>\n",
       "    <tr style=\"text-align: right;\">\n",
       "      <th></th>\n",
       "      <th>Suburb</th>\n",
       "      <th>Address</th>\n",
       "      <th>Rooms</th>\n",
       "      <th>Type</th>\n",
       "      <th>Price</th>\n",
       "      <th>Method</th>\n",
       "      <th>SellerG</th>\n",
       "      <th>Date</th>\n",
       "      <th>Distance</th>\n",
       "      <th>Postcode</th>\n",
       "      <th>...</th>\n",
       "      <th>Bathroom</th>\n",
       "      <th>Car</th>\n",
       "      <th>Landsize</th>\n",
       "      <th>BuildingArea</th>\n",
       "      <th>YearBuilt</th>\n",
       "      <th>CouncilArea</th>\n",
       "      <th>Lattitude</th>\n",
       "      <th>Longtitude</th>\n",
       "      <th>Regionname</th>\n",
       "      <th>Propertycount</th>\n",
       "    </tr>\n",
       "  </thead>\n",
       "  <tbody>\n",
       "    <tr>\n",
       "      <th>0</th>\n",
       "      <td>Abbotsford</td>\n",
       "      <td>85 Turner St</td>\n",
       "      <td>2</td>\n",
       "      <td>h</td>\n",
       "      <td>1480000.0</td>\n",
       "      <td>S</td>\n",
       "      <td>Biggin</td>\n",
       "      <td>3/12/2016</td>\n",
       "      <td>2.5</td>\n",
       "      <td>3067.0</td>\n",
       "      <td>...</td>\n",
       "      <td>1.0</td>\n",
       "      <td>1.0</td>\n",
       "      <td>202.0</td>\n",
       "      <td>NaN</td>\n",
       "      <td>NaN</td>\n",
       "      <td>Yarra</td>\n",
       "      <td>-37.7996</td>\n",
       "      <td>144.9984</td>\n",
       "      <td>Northern Metropolitan</td>\n",
       "      <td>4019.0</td>\n",
       "    </tr>\n",
       "    <tr>\n",
       "      <th>1</th>\n",
       "      <td>Abbotsford</td>\n",
       "      <td>25 Bloomburg St</td>\n",
       "      <td>2</td>\n",
       "      <td>h</td>\n",
       "      <td>1035000.0</td>\n",
       "      <td>S</td>\n",
       "      <td>Biggin</td>\n",
       "      <td>4/02/2016</td>\n",
       "      <td>2.5</td>\n",
       "      <td>3067.0</td>\n",
       "      <td>...</td>\n",
       "      <td>1.0</td>\n",
       "      <td>0.0</td>\n",
       "      <td>156.0</td>\n",
       "      <td>79.0</td>\n",
       "      <td>1900.0</td>\n",
       "      <td>Yarra</td>\n",
       "      <td>-37.8079</td>\n",
       "      <td>144.9934</td>\n",
       "      <td>Northern Metropolitan</td>\n",
       "      <td>4019.0</td>\n",
       "    </tr>\n",
       "    <tr>\n",
       "      <th>2</th>\n",
       "      <td>Abbotsford</td>\n",
       "      <td>5 Charles St</td>\n",
       "      <td>3</td>\n",
       "      <td>h</td>\n",
       "      <td>1465000.0</td>\n",
       "      <td>SP</td>\n",
       "      <td>Biggin</td>\n",
       "      <td>4/03/2017</td>\n",
       "      <td>2.5</td>\n",
       "      <td>3067.0</td>\n",
       "      <td>...</td>\n",
       "      <td>2.0</td>\n",
       "      <td>0.0</td>\n",
       "      <td>134.0</td>\n",
       "      <td>150.0</td>\n",
       "      <td>1900.0</td>\n",
       "      <td>Yarra</td>\n",
       "      <td>-37.8093</td>\n",
       "      <td>144.9944</td>\n",
       "      <td>Northern Metropolitan</td>\n",
       "      <td>4019.0</td>\n",
       "    </tr>\n",
       "    <tr>\n",
       "      <th>3</th>\n",
       "      <td>Abbotsford</td>\n",
       "      <td>40 Federation La</td>\n",
       "      <td>3</td>\n",
       "      <td>h</td>\n",
       "      <td>850000.0</td>\n",
       "      <td>PI</td>\n",
       "      <td>Biggin</td>\n",
       "      <td>4/03/2017</td>\n",
       "      <td>2.5</td>\n",
       "      <td>3067.0</td>\n",
       "      <td>...</td>\n",
       "      <td>2.0</td>\n",
       "      <td>1.0</td>\n",
       "      <td>94.0</td>\n",
       "      <td>NaN</td>\n",
       "      <td>NaN</td>\n",
       "      <td>Yarra</td>\n",
       "      <td>-37.7969</td>\n",
       "      <td>144.9969</td>\n",
       "      <td>Northern Metropolitan</td>\n",
       "      <td>4019.0</td>\n",
       "    </tr>\n",
       "    <tr>\n",
       "      <th>4</th>\n",
       "      <td>Abbotsford</td>\n",
       "      <td>55a Park St</td>\n",
       "      <td>4</td>\n",
       "      <td>h</td>\n",
       "      <td>1600000.0</td>\n",
       "      <td>VB</td>\n",
       "      <td>Nelson</td>\n",
       "      <td>4/06/2016</td>\n",
       "      <td>2.5</td>\n",
       "      <td>3067.0</td>\n",
       "      <td>...</td>\n",
       "      <td>1.0</td>\n",
       "      <td>2.0</td>\n",
       "      <td>120.0</td>\n",
       "      <td>142.0</td>\n",
       "      <td>2014.0</td>\n",
       "      <td>Yarra</td>\n",
       "      <td>-37.8072</td>\n",
       "      <td>144.9941</td>\n",
       "      <td>Northern Metropolitan</td>\n",
       "      <td>4019.0</td>\n",
       "    </tr>\n",
       "  </tbody>\n",
       "</table>\n",
       "<p>5 rows × 21 columns</p>\n",
       "</div>"
      ],
      "text/plain": [
       "       Suburb           Address  Rooms Type      Price Method SellerG  \\\n",
       "0  Abbotsford      85 Turner St      2    h  1480000.0      S  Biggin   \n",
       "1  Abbotsford   25 Bloomburg St      2    h  1035000.0      S  Biggin   \n",
       "2  Abbotsford      5 Charles St      3    h  1465000.0     SP  Biggin   \n",
       "3  Abbotsford  40 Federation La      3    h   850000.0     PI  Biggin   \n",
       "4  Abbotsford       55a Park St      4    h  1600000.0     VB  Nelson   \n",
       "\n",
       "        Date  Distance  Postcode  ...  Bathroom  Car  Landsize  BuildingArea  \\\n",
       "0  3/12/2016       2.5    3067.0  ...       1.0  1.0     202.0           NaN   \n",
       "1  4/02/2016       2.5    3067.0  ...       1.0  0.0     156.0          79.0   \n",
       "2  4/03/2017       2.5    3067.0  ...       2.0  0.0     134.0         150.0   \n",
       "3  4/03/2017       2.5    3067.0  ...       2.0  1.0      94.0           NaN   \n",
       "4  4/06/2016       2.5    3067.0  ...       1.0  2.0     120.0         142.0   \n",
       "\n",
       "   YearBuilt  CouncilArea Lattitude  Longtitude             Regionname  \\\n",
       "0        NaN        Yarra  -37.7996    144.9984  Northern Metropolitan   \n",
       "1     1900.0        Yarra  -37.8079    144.9934  Northern Metropolitan   \n",
       "2     1900.0        Yarra  -37.8093    144.9944  Northern Metropolitan   \n",
       "3        NaN        Yarra  -37.7969    144.9969  Northern Metropolitan   \n",
       "4     2014.0        Yarra  -37.8072    144.9941  Northern Metropolitan   \n",
       "\n",
       "  Propertycount  \n",
       "0        4019.0  \n",
       "1        4019.0  \n",
       "2        4019.0  \n",
       "3        4019.0  \n",
       "4        4019.0  \n",
       "\n",
       "[5 rows x 21 columns]"
      ]
     },
     "execution_count": 4,
     "metadata": {},
     "output_type": "execute_result"
    }
   ],
   "source": [
    "df.head()"
   ]
  },
  {
   "cell_type": "code",
   "execution_count": 5,
   "metadata": {},
   "outputs": [
    {
     "name": "stdout",
     "output_type": "stream",
     "text": [
      "<class 'pandas.core.frame.DataFrame'>\n",
      "RangeIndex: 5000 entries, 0 to 4999\n",
      "Data columns (total 21 columns):\n",
      " #   Column         Non-Null Count  Dtype  \n",
      "---  ------         --------------  -----  \n",
      " 0   Suburb         5000 non-null   object \n",
      " 1   Address        5000 non-null   object \n",
      " 2   Rooms          5000 non-null   int64  \n",
      " 3   Type           5000 non-null   object \n",
      " 4   Price          5000 non-null   float64\n",
      " 5   Method         5000 non-null   object \n",
      " 6   SellerG        5000 non-null   object \n",
      " 7   Date           5000 non-null   object \n",
      " 8   Distance       5000 non-null   float64\n",
      " 9   Postcode       5000 non-null   float64\n",
      " 10  Bedroom2       5000 non-null   float64\n",
      " 11  Bathroom       5000 non-null   float64\n",
      " 12  Car            5000 non-null   float64\n",
      " 13  Landsize       5000 non-null   float64\n",
      " 14  BuildingArea   2838 non-null   float64\n",
      " 15  YearBuilt      3224 non-null   float64\n",
      " 16  CouncilArea    5000 non-null   object \n",
      " 17  Lattitude      5000 non-null   float64\n",
      " 18  Longtitude     5000 non-null   float64\n",
      " 19  Regionname     5000 non-null   object \n",
      " 20  Propertycount  5000 non-null   float64\n",
      "dtypes: float64(12), int64(1), object(8)\n",
      "memory usage: 820.4+ KB\n"
     ]
    }
   ],
   "source": [
    "df.info()"
   ]
  },
  {
   "cell_type": "code",
   "execution_count": 6,
   "metadata": {},
   "outputs": [
    {
     "data": {
      "text/html": [
       "<div>\n",
       "<style scoped>\n",
       "    .dataframe tbody tr th:only-of-type {\n",
       "        vertical-align: middle;\n",
       "    }\n",
       "\n",
       "    .dataframe tbody tr th {\n",
       "        vertical-align: top;\n",
       "    }\n",
       "\n",
       "    .dataframe thead th {\n",
       "        text-align: right;\n",
       "    }\n",
       "</style>\n",
       "<table border=\"1\" class=\"dataframe\">\n",
       "  <thead>\n",
       "    <tr style=\"text-align: right;\">\n",
       "      <th></th>\n",
       "      <th>Rooms</th>\n",
       "      <th>Price</th>\n",
       "      <th>Distance</th>\n",
       "      <th>Postcode</th>\n",
       "      <th>Bedroom2</th>\n",
       "      <th>Bathroom</th>\n",
       "      <th>Car</th>\n",
       "      <th>Landsize</th>\n",
       "      <th>BuildingArea</th>\n",
       "      <th>YearBuilt</th>\n",
       "      <th>Lattitude</th>\n",
       "      <th>Longtitude</th>\n",
       "      <th>Propertycount</th>\n",
       "    </tr>\n",
       "  </thead>\n",
       "  <tbody>\n",
       "    <tr>\n",
       "      <th>count</th>\n",
       "      <td>5000.000000</td>\n",
       "      <td>5.000000e+03</td>\n",
       "      <td>5000.000000</td>\n",
       "      <td>5000.00000</td>\n",
       "      <td>5000.000000</td>\n",
       "      <td>5000.000000</td>\n",
       "      <td>5000.000000</td>\n",
       "      <td>5000.000000</td>\n",
       "      <td>2838.000000</td>\n",
       "      <td>3224.000000</td>\n",
       "      <td>5000.000000</td>\n",
       "      <td>5000.000000</td>\n",
       "      <td>5000.000000</td>\n",
       "    </tr>\n",
       "    <tr>\n",
       "      <th>mean</th>\n",
       "      <td>2.888800</td>\n",
       "      <td>1.137445e+06</td>\n",
       "      <td>8.698000</td>\n",
       "      <td>3099.18240</td>\n",
       "      <td>2.845400</td>\n",
       "      <td>1.535000</td>\n",
       "      <td>1.556400</td>\n",
       "      <td>456.732000</td>\n",
       "      <td>150.624031</td>\n",
       "      <td>1960.598325</td>\n",
       "      <td>-37.814162</td>\n",
       "      <td>144.991280</td>\n",
       "      <td>7141.064800</td>\n",
       "    </tr>\n",
       "    <tr>\n",
       "      <th>std</th>\n",
       "      <td>0.963649</td>\n",
       "      <td>6.715913e+05</td>\n",
       "      <td>3.396407</td>\n",
       "      <td>60.11998</td>\n",
       "      <td>0.955239</td>\n",
       "      <td>0.716434</td>\n",
       "      <td>0.920972</td>\n",
       "      <td>1343.621956</td>\n",
       "      <td>178.182062</td>\n",
       "      <td>37.699725</td>\n",
       "      <td>0.063795</td>\n",
       "      <td>0.072481</td>\n",
       "      <td>3218.122772</td>\n",
       "    </tr>\n",
       "    <tr>\n",
       "      <th>min</th>\n",
       "      <td>1.000000</td>\n",
       "      <td>8.500000e+04</td>\n",
       "      <td>1.600000</td>\n",
       "      <td>3000.00000</td>\n",
       "      <td>0.000000</td>\n",
       "      <td>0.000000</td>\n",
       "      <td>0.000000</td>\n",
       "      <td>0.000000</td>\n",
       "      <td>0.000000</td>\n",
       "      <td>1830.000000</td>\n",
       "      <td>-37.946200</td>\n",
       "      <td>144.807500</td>\n",
       "      <td>394.000000</td>\n",
       "    </tr>\n",
       "    <tr>\n",
       "      <th>25%</th>\n",
       "      <td>2.000000</td>\n",
       "      <td>6.800000e+05</td>\n",
       "      <td>5.900000</td>\n",
       "      <td>3046.00000</td>\n",
       "      <td>2.000000</td>\n",
       "      <td>1.000000</td>\n",
       "      <td>1.000000</td>\n",
       "      <td>145.000000</td>\n",
       "      <td>90.000000</td>\n",
       "      <td>1930.000000</td>\n",
       "      <td>-37.860825</td>\n",
       "      <td>144.934875</td>\n",
       "      <td>4675.000000</td>\n",
       "    </tr>\n",
       "    <tr>\n",
       "      <th>50%</th>\n",
       "      <td>3.000000</td>\n",
       "      <td>9.500000e+05</td>\n",
       "      <td>8.800000</td>\n",
       "      <td>3081.00000</td>\n",
       "      <td>3.000000</td>\n",
       "      <td>1.000000</td>\n",
       "      <td>1.000000</td>\n",
       "      <td>347.500000</td>\n",
       "      <td>125.000000</td>\n",
       "      <td>1960.000000</td>\n",
       "      <td>-37.799700</td>\n",
       "      <td>144.997700</td>\n",
       "      <td>6923.000000</td>\n",
       "    </tr>\n",
       "    <tr>\n",
       "      <th>75%</th>\n",
       "      <td>3.000000</td>\n",
       "      <td>1.417062e+06</td>\n",
       "      <td>11.200000</td>\n",
       "      <td>3148.00000</td>\n",
       "      <td>3.000000</td>\n",
       "      <td>2.000000</td>\n",
       "      <td>2.000000</td>\n",
       "      <td>619.250000</td>\n",
       "      <td>176.000000</td>\n",
       "      <td>1997.250000</td>\n",
       "      <td>-37.765200</td>\n",
       "      <td>145.049500</td>\n",
       "      <td>9264.000000</td>\n",
       "    </tr>\n",
       "    <tr>\n",
       "      <th>max</th>\n",
       "      <td>8.000000</td>\n",
       "      <td>6.500000e+06</td>\n",
       "      <td>15.000000</td>\n",
       "      <td>3207.00000</td>\n",
       "      <td>9.000000</td>\n",
       "      <td>8.000000</td>\n",
       "      <td>8.000000</td>\n",
       "      <td>75100.000000</td>\n",
       "      <td>6791.000000</td>\n",
       "      <td>2018.000000</td>\n",
       "      <td>-37.694900</td>\n",
       "      <td>145.143800</td>\n",
       "      <td>17496.000000</td>\n",
       "    </tr>\n",
       "  </tbody>\n",
       "</table>\n",
       "</div>"
      ],
      "text/plain": [
       "             Rooms         Price     Distance    Postcode     Bedroom2  \\\n",
       "count  5000.000000  5.000000e+03  5000.000000  5000.00000  5000.000000   \n",
       "mean      2.888800  1.137445e+06     8.698000  3099.18240     2.845400   \n",
       "std       0.963649  6.715913e+05     3.396407    60.11998     0.955239   \n",
       "min       1.000000  8.500000e+04     1.600000  3000.00000     0.000000   \n",
       "25%       2.000000  6.800000e+05     5.900000  3046.00000     2.000000   \n",
       "50%       3.000000  9.500000e+05     8.800000  3081.00000     3.000000   \n",
       "75%       3.000000  1.417062e+06    11.200000  3148.00000     3.000000   \n",
       "max       8.000000  6.500000e+06    15.000000  3207.00000     9.000000   \n",
       "\n",
       "          Bathroom          Car      Landsize  BuildingArea    YearBuilt  \\\n",
       "count  5000.000000  5000.000000   5000.000000   2838.000000  3224.000000   \n",
       "mean      1.535000     1.556400    456.732000    150.624031  1960.598325   \n",
       "std       0.716434     0.920972   1343.621956    178.182062    37.699725   \n",
       "min       0.000000     0.000000      0.000000      0.000000  1830.000000   \n",
       "25%       1.000000     1.000000    145.000000     90.000000  1930.000000   \n",
       "50%       1.000000     1.000000    347.500000    125.000000  1960.000000   \n",
       "75%       2.000000     2.000000    619.250000    176.000000  1997.250000   \n",
       "max       8.000000     8.000000  75100.000000   6791.000000  2018.000000   \n",
       "\n",
       "         Lattitude   Longtitude  Propertycount  \n",
       "count  5000.000000  5000.000000    5000.000000  \n",
       "mean    -37.814162   144.991280    7141.064800  \n",
       "std       0.063795     0.072481    3218.122772  \n",
       "min     -37.946200   144.807500     394.000000  \n",
       "25%     -37.860825   144.934875    4675.000000  \n",
       "50%     -37.799700   144.997700    6923.000000  \n",
       "75%     -37.765200   145.049500    9264.000000  \n",
       "max     -37.694900   145.143800   17496.000000  "
      ]
     },
     "execution_count": 6,
     "metadata": {},
     "output_type": "execute_result"
    }
   ],
   "source": [
    "df.describe()"
   ]
  },
  {
   "cell_type": "code",
   "execution_count": null,
   "metadata": {},
   "outputs": [],
   "source": []
  },
  {
   "cell_type": "code",
   "execution_count": 27,
   "metadata": {},
   "outputs": [
    {
     "data": {
      "text/html": [
       "<div>\n",
       "<style scoped>\n",
       "    .dataframe tbody tr th:only-of-type {\n",
       "        vertical-align: middle;\n",
       "    }\n",
       "\n",
       "    .dataframe tbody tr th {\n",
       "        vertical-align: top;\n",
       "    }\n",
       "\n",
       "    .dataframe thead th {\n",
       "        text-align: right;\n",
       "    }\n",
       "</style>\n",
       "<table border=\"1\" class=\"dataframe\">\n",
       "  <thead>\n",
       "    <tr style=\"text-align: right;\">\n",
       "      <th></th>\n",
       "      <th>Feature Name</th>\n",
       "      <th>Type</th>\n",
       "      <th>Sum of Null</th>\n",
       "      <th>Nul Percentage</th>\n",
       "      <th>Unique Values</th>\n",
       "      <th>Unique  Samples</th>\n",
       "    </tr>\n",
       "  </thead>\n",
       "  <tbody>\n",
       "    <tr>\n",
       "      <th>0</th>\n",
       "      <td>Suburb</td>\n",
       "      <td>object</td>\n",
       "      <td>0</td>\n",
       "      <td>0.00</td>\n",
       "      <td>84</td>\n",
       "      <td>[Abbotsford, Airport West, Albert Park, Alphin...</td>\n",
       "    </tr>\n",
       "    <tr>\n",
       "      <th>1</th>\n",
       "      <td>Address</td>\n",
       "      <td>object</td>\n",
       "      <td>0</td>\n",
       "      <td>0.00</td>\n",
       "      <td>4956</td>\n",
       "      <td>[85 Turner St, 25 Bloomburg St, 5 Charles St, ...</td>\n",
       "    </tr>\n",
       "    <tr>\n",
       "      <th>2</th>\n",
       "      <td>Rooms</td>\n",
       "      <td>int64</td>\n",
       "      <td>0</td>\n",
       "      <td>0.00</td>\n",
       "      <td>8</td>\n",
       "      <td>[2, 3, 4, 1, 6, 5, 8, 7]</td>\n",
       "    </tr>\n",
       "    <tr>\n",
       "      <th>3</th>\n",
       "      <td>Type</td>\n",
       "      <td>object</td>\n",
       "      <td>0</td>\n",
       "      <td>0.00</td>\n",
       "      <td>3</td>\n",
       "      <td>[h, u, t]</td>\n",
       "    </tr>\n",
       "    <tr>\n",
       "      <th>4</th>\n",
       "      <td>Price</td>\n",
       "      <td>float64</td>\n",
       "      <td>0</td>\n",
       "      <td>0.00</td>\n",
       "      <td>1400</td>\n",
       "      <td>[1480000.0, 1035000.0, 1465000.0, 850000.0, 16...</td>\n",
       "    </tr>\n",
       "    <tr>\n",
       "      <th>5</th>\n",
       "      <td>Method</td>\n",
       "      <td>object</td>\n",
       "      <td>0</td>\n",
       "      <td>0.00</td>\n",
       "      <td>5</td>\n",
       "      <td>[S, SP, PI, VB, SA]</td>\n",
       "    </tr>\n",
       "    <tr>\n",
       "      <th>6</th>\n",
       "      <td>SellerG</td>\n",
       "      <td>object</td>\n",
       "      <td>0</td>\n",
       "      <td>0.00</td>\n",
       "      <td>158</td>\n",
       "      <td>[Biggin, Nelson, Jellis, Greg, LITTLE, Collins...</td>\n",
       "    </tr>\n",
       "    <tr>\n",
       "      <th>7</th>\n",
       "      <td>Date</td>\n",
       "      <td>object</td>\n",
       "      <td>0</td>\n",
       "      <td>0.00</td>\n",
       "      <td>35</td>\n",
       "      <td>[3/12/2016, 4/02/2016, 4/03/2017, 4/06/2016, 7...</td>\n",
       "    </tr>\n",
       "    <tr>\n",
       "      <th>8</th>\n",
       "      <td>Distance</td>\n",
       "      <td>float64</td>\n",
       "      <td>0</td>\n",
       "      <td>0.00</td>\n",
       "      <td>68</td>\n",
       "      <td>[2.5, 13.5, 3.3, 6.4, 13.8, 11.1, 6.3, 5.9, 11...</td>\n",
       "    </tr>\n",
       "    <tr>\n",
       "      <th>9</th>\n",
       "      <td>Postcode</td>\n",
       "      <td>float64</td>\n",
       "      <td>0</td>\n",
       "      <td>0.00</td>\n",
       "      <td>70</td>\n",
       "      <td>[3067.0, 3042.0, 3206.0, 3078.0, 3018.0, 3025....</td>\n",
       "    </tr>\n",
       "    <tr>\n",
       "      <th>10</th>\n",
       "      <td>Bedroom2</td>\n",
       "      <td>float64</td>\n",
       "      <td>0</td>\n",
       "      <td>0.00</td>\n",
       "      <td>10</td>\n",
       "      <td>[2.0, 3.0, 4.0, 1.0, 6.0, 5.0, 0.0, 8.0, 9.0, ...</td>\n",
       "    </tr>\n",
       "    <tr>\n",
       "      <th>11</th>\n",
       "      <td>Bathroom</td>\n",
       "      <td>float64</td>\n",
       "      <td>0</td>\n",
       "      <td>0.00</td>\n",
       "      <td>9</td>\n",
       "      <td>[1.0, 2.0, 3.0, 4.0, 0.0, 7.0, 5.0, 6.0, 8.0]</td>\n",
       "    </tr>\n",
       "    <tr>\n",
       "      <th>12</th>\n",
       "      <td>Car</td>\n",
       "      <td>float64</td>\n",
       "      <td>0</td>\n",
       "      <td>0.00</td>\n",
       "      <td>9</td>\n",
       "      <td>[1.0, 0.0, 2.0, 6.0, 5.0, 4.0, 3.0, 8.0, 7.0]</td>\n",
       "    </tr>\n",
       "    <tr>\n",
       "      <th>13</th>\n",
       "      <td>Landsize</td>\n",
       "      <td>float64</td>\n",
       "      <td>0</td>\n",
       "      <td>0.00</td>\n",
       "      <td>1029</td>\n",
       "      <td>[202.0, 156.0, 134.0, 94.0, 120.0, 181.0, 245....</td>\n",
       "    </tr>\n",
       "    <tr>\n",
       "      <th>14</th>\n",
       "      <td>BuildingArea</td>\n",
       "      <td>float64</td>\n",
       "      <td>2162</td>\n",
       "      <td>43.24</td>\n",
       "      <td>387</td>\n",
       "      <td>[nan, 79.0, 150.0, 142.0, 210.0, 107.0, 75.0, ...</td>\n",
       "    </tr>\n",
       "    <tr>\n",
       "      <th>15</th>\n",
       "      <td>YearBuilt</td>\n",
       "      <td>float64</td>\n",
       "      <td>1776</td>\n",
       "      <td>35.52</td>\n",
       "      <td>125</td>\n",
       "      <td>[nan, 1900.0, 2014.0, 1910.0, 1890.0, 2005.0, ...</td>\n",
       "    </tr>\n",
       "    <tr>\n",
       "      <th>16</th>\n",
       "      <td>CouncilArea</td>\n",
       "      <td>object</td>\n",
       "      <td>0</td>\n",
       "      <td>0.00</td>\n",
       "      <td>18</td>\n",
       "      <td>[Yarra, Moonee Valley, Port Phillip, Darebin, ...</td>\n",
       "    </tr>\n",
       "    <tr>\n",
       "      <th>17</th>\n",
       "      <td>Lattitude</td>\n",
       "      <td>float64</td>\n",
       "      <td>0</td>\n",
       "      <td>0.00</td>\n",
       "      <td>1997</td>\n",
       "      <td>[-37.7996, -37.8079, -37.8093, -37.7969, -37.8...</td>\n",
       "    </tr>\n",
       "    <tr>\n",
       "      <th>18</th>\n",
       "      <td>Longtitude</td>\n",
       "      <td>float64</td>\n",
       "      <td>0</td>\n",
       "      <td>0.00</td>\n",
       "      <td>2257</td>\n",
       "      <td>[144.9984, 144.9934, 144.9944, 144.9969, 144.9...</td>\n",
       "    </tr>\n",
       "    <tr>\n",
       "      <th>19</th>\n",
       "      <td>Regionname</td>\n",
       "      <td>object</td>\n",
       "      <td>0</td>\n",
       "      <td>0.00</td>\n",
       "      <td>5</td>\n",
       "      <td>[Northern Metropolitan, Western Metropolitan, ...</td>\n",
       "    </tr>\n",
       "    <tr>\n",
       "      <th>20</th>\n",
       "      <td>Propertycount</td>\n",
       "      <td>float64</td>\n",
       "      <td>0</td>\n",
       "      <td>0.00</td>\n",
       "      <td>84</td>\n",
       "      <td>[4019.0, 3464.0, 3280.0, 2211.0, 5301.0, 5132....</td>\n",
       "    </tr>\n",
       "  </tbody>\n",
       "</table>\n",
       "</div>"
      ],
      "text/plain": [
       "     Feature Name     Type  Sum of Null  Nul Percentage  Unique Values  \\\n",
       "0          Suburb   object            0            0.00             84   \n",
       "1         Address   object            0            0.00           4956   \n",
       "2           Rooms    int64            0            0.00              8   \n",
       "3            Type   object            0            0.00              3   \n",
       "4           Price  float64            0            0.00           1400   \n",
       "5          Method   object            0            0.00              5   \n",
       "6         SellerG   object            0            0.00            158   \n",
       "7            Date   object            0            0.00             35   \n",
       "8        Distance  float64            0            0.00             68   \n",
       "9        Postcode  float64            0            0.00             70   \n",
       "10       Bedroom2  float64            0            0.00             10   \n",
       "11       Bathroom  float64            0            0.00              9   \n",
       "12            Car  float64            0            0.00              9   \n",
       "13       Landsize  float64            0            0.00           1029   \n",
       "14   BuildingArea  float64         2162           43.24            387   \n",
       "15      YearBuilt  float64         1776           35.52            125   \n",
       "16    CouncilArea   object            0            0.00             18   \n",
       "17      Lattitude  float64            0            0.00           1997   \n",
       "18     Longtitude  float64            0            0.00           2257   \n",
       "19     Regionname   object            0            0.00              5   \n",
       "20  Propertycount  float64            0            0.00             84   \n",
       "\n",
       "                                      Unique  Samples  \n",
       "0   [Abbotsford, Airport West, Albert Park, Alphin...  \n",
       "1   [85 Turner St, 25 Bloomburg St, 5 Charles St, ...  \n",
       "2                            [2, 3, 4, 1, 6, 5, 8, 7]  \n",
       "3                                           [h, u, t]  \n",
       "4   [1480000.0, 1035000.0, 1465000.0, 850000.0, 16...  \n",
       "5                                 [S, SP, PI, VB, SA]  \n",
       "6   [Biggin, Nelson, Jellis, Greg, LITTLE, Collins...  \n",
       "7   [3/12/2016, 4/02/2016, 4/03/2017, 4/06/2016, 7...  \n",
       "8   [2.5, 13.5, 3.3, 6.4, 13.8, 11.1, 6.3, 5.9, 11...  \n",
       "9   [3067.0, 3042.0, 3206.0, 3078.0, 3018.0, 3025....  \n",
       "10  [2.0, 3.0, 4.0, 1.0, 6.0, 5.0, 0.0, 8.0, 9.0, ...  \n",
       "11      [1.0, 2.0, 3.0, 4.0, 0.0, 7.0, 5.0, 6.0, 8.0]  \n",
       "12      [1.0, 0.0, 2.0, 6.0, 5.0, 4.0, 3.0, 8.0, 7.0]  \n",
       "13  [202.0, 156.0, 134.0, 94.0, 120.0, 181.0, 245....  \n",
       "14  [nan, 79.0, 150.0, 142.0, 210.0, 107.0, 75.0, ...  \n",
       "15  [nan, 1900.0, 2014.0, 1910.0, 1890.0, 2005.0, ...  \n",
       "16  [Yarra, Moonee Valley, Port Phillip, Darebin, ...  \n",
       "17  [-37.7996, -37.8079, -37.8093, -37.7969, -37.8...  \n",
       "18  [144.9984, 144.9934, 144.9944, 144.9969, 144.9...  \n",
       "19  [Northern Metropolitan, Western Metropolitan, ...  \n",
       "20  [4019.0, 3464.0, 3280.0, 2211.0, 5301.0, 5132....  "
      ]
     },
     "execution_count": 27,
     "metadata": {},
     "output_type": "execute_result"
    }
   ],
   "source": [
    "# Pengecekan missing value\n",
    "df_list = []\n",
    "for i in df.columns:\n",
    "    df_list.append([i, \n",
    "                       df[i].dtype, \n",
    "                       df[i].isna().sum(), \n",
    "                        round((df[i].isna().sum()/len(df[i]))*100,2),\n",
    "                       df[i].nunique(), list(df[i].drop_duplicates().values)])\n",
    "\n",
    "df_desc = pd.DataFrame(columns = ['Feature Name', 'Type', 'Sum of Null', 'Nul Percentage', 'Unique Values', 'Unique  Samples'], data = df_list)\n",
    "\n",
    "df_desc"
   ]
  },
  {
   "cell_type": "code",
   "execution_count": 73,
   "metadata": {},
   "outputs": [],
   "source": [
    "from scipy import stats\n",
    "from scipy.stats import mannwhitneyu"
   ]
  },
  {
   "cell_type": "code",
   "execution_count": 75,
   "metadata": {},
   "outputs": [
    {
     "name": "stdout",
     "output_type": "stream",
     "text": [
      "BuildingArea does not come from normal distribution\n"
     ]
    }
   ],
   "source": [
    "normal, p = stats.normaltest(df['BuildingArea'].dropna())\n",
    "# h0: X comes from normal distribution\n",
    "# h1: X does not come from normal distribution\n",
    "if p < 0.05:\n",
    "    print('BuildingArea does not come from normal distribution')\n",
    "else:\n",
    "    print('BuildingArea comes from normal distribution')"
   ]
  },
  {
   "cell_type": "markdown",
   "metadata": {},
   "source": [
    "Terdapat missing value pada feature BuildingArea dan YearBuilt. Feature YearBuilt akan diisi dengan modus, sedangkan Feature BuildingArea akan diisi dengan median."
   ]
  },
  {
   "cell_type": "markdown",
   "metadata": {},
   "source": [
    "(Data Cleaning dan Preprocessing dilanjutkan dibagian setelah EDA, sebelum modeling)"
   ]
  },
  {
   "cell_type": "code",
   "execution_count": 23,
   "metadata": {},
   "outputs": [
    {
     "data": {
      "text/plain": [
       "array(['3/12/2016', '4/02/2016', '4/03/2017', '4/06/2016', '7/05/2016',\n",
       "       '8/10/2016', '12/11/2016', '13/08/2016', '14/05/2016',\n",
       "       '15/10/2016', '16/07/2016', '17/09/2016', '18/03/2017',\n",
       "       '18/06/2016', '19/11/2016', '22/08/2016', '24/09/2016',\n",
       "       '25/02/2017', '26/07/2016', '27/11/2016', '28/05/2016',\n",
       "       '30/07/2016', '3/09/2016', '6/08/2016', '7/11/2016', '10/09/2016',\n",
       "       '10/12/2016', '11/02/2017', '16/04/2016', '22/05/2016',\n",
       "       '23/04/2016', '12/06/2016', '27/06/2016', '28/08/2016',\n",
       "       '11/03/2017'], dtype=object)"
      ]
     },
     "execution_count": 23,
     "metadata": {},
     "output_type": "execute_result"
    }
   ],
   "source": [
    "df['Date']"
   ]
  },
  {
   "cell_type": "markdown",
   "metadata": {},
   "source": [
    "## B. EDA"
   ]
  },
  {
   "cell_type": "code",
   "execution_count": 11,
   "metadata": {},
   "outputs": [],
   "source": [
    "import matplotlib.pyplot as plt\n",
    "import seaborn as sns"
   ]
  },
  {
   "cell_type": "code",
   "execution_count": 30,
   "metadata": {},
   "outputs": [
    {
     "data": {
      "image/png": "[encoded data removed]",
      "text/plain": [
       "<Figure size 432x288 with 1 Axes>"
      ]
     },
     "metadata": {
      "needs_background": "light"
     },
     "output_type": "display_data"
    }
   ],
   "source": [
    "plt.figure()\n",
    "sns.barplot(x = \"Rooms\", y = \"Price\", data = df)\n",
    "plt.title('Pengaruh Jumlah Kamar Terhadap Harga', fontsize=20)\n",
    "plt.xlabel('Jumlah Kamar', fontsize=15)\n",
    "plt.ylabel('Harga')\n",
    "plt.show()"
   ]
  },
  {
   "cell_type": "code",
   "execution_count": null,
   "metadata": {},
   "outputs": [],
   "source": [
    "# Jumlah 6 kamar dalam suatu rumah paling mahal."
   ]
  },
  {
   "cell_type": "code",
   "execution_count": 66,
   "metadata": {},
   "outputs": [
    {
     "data": {
      "image/png": "[encoded data removed]",
      "text/plain": [
       "<Figure size 432x288 with 1 Axes>"
      ]
     },
     "metadata": {
      "needs_background": "light"
     },
     "output_type": "display_data"
    }
   ],
   "source": [
    "plt.figure()\n",
    "sns.barplot(x = \"Bathroom\", y = \"Price\", data = df)\n",
    "plt.title('Pengaruh Jumlah Kamar Mandi Terhadap Harga', fontsize=20)\n",
    "plt.xlabel('Jumlah Kamar Mandi', fontsize=15)\n",
    "plt.ylabel('Harga')\n",
    "plt.show()"
   ]
  },
  {
   "cell_type": "code",
   "execution_count": 67,
   "metadata": {},
   "outputs": [],
   "source": [
    "# Jumlah 6 kamar mandi dalam suatu rumah paling mahal."
   ]
  },
  {
   "cell_type": "code",
   "execution_count": 14,
   "metadata": {},
   "outputs": [
    {
     "data": {
      "image/png": "[encoded data removed]",
      "text/plain": [
       "<Figure size 576x576 with 1 Axes>"
      ]
     },
     "metadata": {
      "needs_background": "light"
     },
     "output_type": "display_data"
    }
   ],
   "source": [
    "plt.figure(figsize = (8,8))\n",
    "plt.hist(df['Price'])\n",
    "plt.title('Distribusi Data Harga', size = 20)\n",
    "plt.xlabel('Price')\n",
    "plt.ylabel('Frequency')\n",
    "plt.grid(False)\n",
    "plt.show()"
   ]
  },
  {
   "cell_type": "code",
   "execution_count": 31,
   "metadata": {},
   "outputs": [
    {
     "data": {
      "text/plain": [
       "1075684.079455081"
      ]
     },
     "execution_count": 31,
     "metadata": {},
     "output_type": "execute_result"
    }
   ],
   "source": [
    "melb['Price'].mean() # Rata - rata Harga rumah adalah 1075684"
   ]
  },
  {
   "cell_type": "code",
   "execution_count": 32,
   "metadata": {},
   "outputs": [
    {
     "data": {
      "text/plain": [
       "0    1100000.0\n",
       "dtype: float64"
      ]
     },
     "execution_count": 32,
     "metadata": {},
     "output_type": "execute_result"
    }
   ],
   "source": [
    "melb['Price'].mode() # dengan modus 1100000"
   ]
  },
  {
   "cell_type": "code",
   "execution_count": 33,
   "metadata": {},
   "outputs": [
    {
     "data": {
      "text/plain": [
       "950000.0"
      ]
     },
     "execution_count": 33,
     "metadata": {},
     "output_type": "execute_result"
    }
   ],
   "source": [
    "df['Price'].median() # dan median 950000"
   ]
  },
  {
   "cell_type": "markdown",
   "metadata": {},
   "source": [
    "Harga Berdistribusi skew right"
   ]
  },
  {
   "cell_type": "code",
   "execution_count": 34,
   "metadata": {},
   "outputs": [
    {
     "data": {
      "image/png": "[encoded data removed]",
      "text/plain": [
       "<Figure size 432x288 with 1 Axes>"
      ]
     },
     "metadata": {
      "needs_background": "light"
     },
     "output_type": "display_data"
    }
   ],
   "source": [
    "plt.boxplot(df['Distance'])\n",
    "plt.title('Distance Boxplot', size = 17)\n",
    "plt.xlabel('Distance')\n",
    "plt.ylabel('Value')\n",
    "plt.show()"
   ]
  },
  {
   "cell_type": "markdown",
   "metadata": {},
   "source": [
    "berdasarkan boxplot diatas, maka distance perumahan pada data tersebut tidak ada outlier."
   ]
  },
  {
   "cell_type": "code",
   "execution_count": 68,
   "metadata": {},
   "outputs": [
    {
     "data": {
      "image/png": "[encoded data removed]",
      "text/plain": [
       "<Figure size 432x288 with 1 Axes>"
      ]
     },
     "metadata": {
      "needs_background": "light"
     },
     "output_type": "display_data"
    }
   ],
   "source": [
    "plt.figure()\n",
    "sns.scatterplot(x = \"Distance\", y = \"Price\", data = df)\n",
    "plt.title('Hubungan Jarak dan Harga', fontsize=20)\n",
    "plt.show()"
   ]
  },
  {
   "cell_type": "code",
   "execution_count": 69,
   "metadata": {},
   "outputs": [],
   "source": [
    "# Semakin dekat dengan CBD, maka Harga cenderung semakin mahal"
   ]
  },
  {
   "cell_type": "code",
   "execution_count": 26,
   "metadata": {},
   "outputs": [
    {
     "data": {
      "text/plain": [
       "<AxesSubplot:xlabel='YearBuilt'>"
      ]
     },
     "execution_count": 26,
     "metadata": {},
     "output_type": "execute_result"
    },
    {
     "data": {
      "image/png": "[encoded data removed]",
      "text/plain": [
       "<Figure size 432x288 with 1 Axes>"
      ]
     },
     "metadata": {
      "needs_background": "light"
     },
     "output_type": "display_data"
    }
   ],
   "source": [
    "data = pd.crosstab(index = df['YearBuilt'], columns = \"HargaRata-Rata\", values = df['Price'], aggfunc='mean').round(2)\n",
    "data.plot(kind='line')"
   ]
  },
  {
   "cell_type": "code",
   "execution_count": 47,
   "metadata": {},
   "outputs": [
    {
     "data": {
      "text/plain": [
       "578875.0"
      ]
     },
     "execution_count": 47,
     "metadata": {},
     "output_type": "execute_result"
    }
   ],
   "source": [
    "data[\"HargaRata-Rata\"].min()"
   ]
  },
  {
   "cell_type": "code",
   "execution_count": 55,
   "metadata": {},
   "outputs": [
    {
     "data": {
      "text/plain": [
       "3455000.0"
      ]
     },
     "execution_count": 55,
     "metadata": {},
     "output_type": "execute_result"
    }
   ],
   "source": [
    "data[\"HargaRata-Rata\"].max()"
   ]
  },
  {
   "cell_type": "markdown",
   "metadata": {},
   "source": [
    "Dari tahun 1825 sampai tahun 2025, Harga Rata-rata tahunan paling mahal berada pada tahun 1900 dengan harga 3455000 dan harga minimum 578875 pada sekitar tahun 1960. Terjadi lonjakan Harga pada tahun 1850."
   ]
  },
  {
   "cell_type": "code",
   "execution_count": 58,
   "metadata": {},
   "outputs": [
    {
     "data": {
      "image/png": "[encoded data removed]",
      "text/plain": [
       "<Figure size 432x288 with 1 Axes>"
      ]
     },
     "metadata": {
      "needs_background": "light"
     },
     "output_type": "display_data"
    }
   ],
   "source": [
    "plt.figure()\n",
    "sns.countplot(y = \"Type\", data = df)\n",
    "plt.title('Jumlah Tipe', fontsize=20)\n",
    "plt.show()"
   ]
  },
  {
   "cell_type": "markdown",
   "metadata": {},
   "source": [
    "Jumlah Tipe yang paling banyak adalah tipe h - house,cottage,villa, semi,terrace.\n",
    "Sedangkan jumlah tipe yang paling sedikit adalah t. Maka Real Estate dapat melakukan promosi lebih gencar untuk penjualan townhouse"
   ]
  },
  {
   "cell_type": "code",
   "execution_count": 59,
   "metadata": {},
   "outputs": [
    {
     "data": {
      "image/png": "[encoded data removed]",
      "text/plain": [
       "<Figure size 432x288 with 1 Axes>"
      ]
     },
     "metadata": {
      "needs_background": "light"
     },
     "output_type": "display_data"
    }
   ],
   "source": [
    "plt.figure()\n",
    "sns.countplot(y = \"Method\", data = df)\n",
    "plt.title('Jumlah Metode', fontsize=20)\n",
    "plt.show()"
   ]
  },
  {
   "cell_type": "markdown",
   "metadata": {},
   "source": [
    "Jumlah Metode yang paling sering digunakan adalah property sold"
   ]
  },
  {
   "cell_type": "code",
   "execution_count": 60,
   "metadata": {},
   "outputs": [
    {
     "name": "stderr",
     "output_type": "stream",
     "text": [
      "C:\\ProgramData\\Anaconda3\\lib\\site-packages\\pandas\\plotting\\_matplotlib\\core.py:1547: MatplotlibDeprecationWarning: normalize=None does not normalize if the sum is less than 1 but this behavior is deprecated since 3.3 until two minor releases later. After the deprecation period the default value will be normalize=True. To prevent normalization pass normalize=False \n",
      "  results = ax.pie(y, labels=blabels, **kwds)\n"
     ]
    },
    {
     "data": {
      "image/png": "[encoded data removed]",
      "text/plain": [
       "<Figure size 432x288 with 1 Axes>"
      ]
     },
     "metadata": {},
     "output_type": "display_data"
    }
   ],
   "source": [
    "df['Car'].value_counts(normalize=True).plot(kind='pie')\n",
    "plt.show()"
   ]
  },
  {
   "cell_type": "code",
   "execution_count": 61,
   "metadata": {},
   "outputs": [
    {
     "data": {
      "text/plain": [
       "1.0    2248\n",
       "2.0    1924\n",
       "0.0     359\n",
       "3.0     256\n",
       "4.0     180\n",
       "5.0      13\n",
       "6.0      12\n",
       "8.0       5\n",
       "7.0       3\n",
       "Name: Car, dtype: int64"
      ]
     },
     "execution_count": 61,
     "metadata": {},
     "output_type": "execute_result"
    }
   ],
   "source": [
    "df['Car'].value_counts()"
   ]
  },
  {
   "cell_type": "markdown",
   "metadata": {},
   "source": [
    "Number of carspots yang paling banyak adalah 1"
   ]
  },
  {
   "cell_type": "code",
   "execution_count": null,
   "metadata": {},
   "outputs": [],
   "source": []
  },
  {
   "cell_type": "markdown",
   "metadata": {},
   "source": [
    "## C. Model Building & Hyper-parameter Tuning"
   ]
  },
  {
   "cell_type": "markdown",
   "metadata": {},
   "source": [
    "#### A. Data Cleaning dan Prep\n",
    "\n",
    "1. Terdapat missing value pada \n",
    ">- feature YearBuilt diisi dengan simple imputer most_frequent karena datanya categorical\n",
    ">- feature BuildingArea diisi median dengan simple imputer\n",
    "\n",
    "2. Drop column \n",
    ">- Suburb, Address, Postcode, CouncilArea, Lattitude, Longtitude karena akan digunakan Regionname untuk mewakili tempat/letak.\n",
    ">- Propertycount karena jumlah properti dalam suatu suburb tidak berpengaruh karena sudah dipilih Regionname untuk mewakili tempat/letak.\n",
    ">- Date, SellerG karena tidak berpengaruh.\n",
    "\n",
    "3. Encoding:\n",
    ">- YearBuilt : binary\n",
    ">- Type : onehot\n",
    ">- Regionname : binary\n",
    ">- Method : binary\n",
    "\n",
    "- Dilakukan OneHot encoding karena datanya nominal dan jumlah category dalam featurenya sedikit\n",
    "- Dilakukan Binary encoding karena datanya nominal dan jumlah category dalam featurenya banyak\n",
    "\n",
    "4. Model\n",
    "> Akan dicoba model machine learning non parametric, yaitu DTC, dan KNN"
   ]
  },
  {
   "cell_type": "code",
   "execution_count": 82,
   "metadata": {},
   "outputs": [
    {
     "data": {
      "text/html": [
       "<div>\n",
       "<style scoped>\n",
       "    .dataframe tbody tr th:only-of-type {\n",
       "        vertical-align: middle;\n",
       "    }\n",
       "\n",
       "    .dataframe tbody tr th {\n",
       "        vertical-align: top;\n",
       "    }\n",
       "\n",
       "    .dataframe thead th {\n",
       "        text-align: right;\n",
       "    }\n",
       "</style>\n",
       "<table border=\"1\" class=\"dataframe\">\n",
       "  <thead>\n",
       "    <tr style=\"text-align: right;\">\n",
       "      <th></th>\n",
       "      <th>Rooms</th>\n",
       "      <th>Type</th>\n",
       "      <th>Price</th>\n",
       "      <th>Method</th>\n",
       "      <th>Distance</th>\n",
       "      <th>Bedroom2</th>\n",
       "      <th>Bathroom</th>\n",
       "      <th>Car</th>\n",
       "      <th>Landsize</th>\n",
       "      <th>BuildingArea</th>\n",
       "      <th>YearBuilt</th>\n",
       "      <th>Regionname</th>\n",
       "    </tr>\n",
       "  </thead>\n",
       "  <tbody>\n",
       "    <tr>\n",
       "      <th>0</th>\n",
       "      <td>2</td>\n",
       "      <td>h</td>\n",
       "      <td>1480000.0</td>\n",
       "      <td>S</td>\n",
       "      <td>2.5</td>\n",
       "      <td>2.0</td>\n",
       "      <td>1.0</td>\n",
       "      <td>1.0</td>\n",
       "      <td>202.0</td>\n",
       "      <td>NaN</td>\n",
       "      <td>NaN</td>\n",
       "      <td>Northern Metropolitan</td>\n",
       "    </tr>\n",
       "    <tr>\n",
       "      <th>1</th>\n",
       "      <td>2</td>\n",
       "      <td>h</td>\n",
       "      <td>1035000.0</td>\n",
       "      <td>S</td>\n",
       "      <td>2.5</td>\n",
       "      <td>2.0</td>\n",
       "      <td>1.0</td>\n",
       "      <td>0.0</td>\n",
       "      <td>156.0</td>\n",
       "      <td>79.0</td>\n",
       "      <td>1900.0</td>\n",
       "      <td>Northern Metropolitan</td>\n",
       "    </tr>\n",
       "    <tr>\n",
       "      <th>2</th>\n",
       "      <td>3</td>\n",
       "      <td>h</td>\n",
       "      <td>1465000.0</td>\n",
       "      <td>SP</td>\n",
       "      <td>2.5</td>\n",
       "      <td>3.0</td>\n",
       "      <td>2.0</td>\n",
       "      <td>0.0</td>\n",
       "      <td>134.0</td>\n",
       "      <td>150.0</td>\n",
       "      <td>1900.0</td>\n",
       "      <td>Northern Metropolitan</td>\n",
       "    </tr>\n",
       "    <tr>\n",
       "      <th>3</th>\n",
       "      <td>3</td>\n",
       "      <td>h</td>\n",
       "      <td>850000.0</td>\n",
       "      <td>PI</td>\n",
       "      <td>2.5</td>\n",
       "      <td>3.0</td>\n",
       "      <td>2.0</td>\n",
       "      <td>1.0</td>\n",
       "      <td>94.0</td>\n",
       "      <td>NaN</td>\n",
       "      <td>NaN</td>\n",
       "      <td>Northern Metropolitan</td>\n",
       "    </tr>\n",
       "    <tr>\n",
       "      <th>4</th>\n",
       "      <td>4</td>\n",
       "      <td>h</td>\n",
       "      <td>1600000.0</td>\n",
       "      <td>VB</td>\n",
       "      <td>2.5</td>\n",
       "      <td>3.0</td>\n",
       "      <td>1.0</td>\n",
       "      <td>2.0</td>\n",
       "      <td>120.0</td>\n",
       "      <td>142.0</td>\n",
       "      <td>2014.0</td>\n",
       "      <td>Northern Metropolitan</td>\n",
       "    </tr>\n",
       "  </tbody>\n",
       "</table>\n",
       "</div>"
      ],
      "text/plain": [
       "   Rooms Type      Price Method  Distance  Bedroom2  Bathroom  Car  Landsize  \\\n",
       "0      2    h  1480000.0      S       2.5       2.0       1.0  1.0     202.0   \n",
       "1      2    h  1035000.0      S       2.5       2.0       1.0  0.0     156.0   \n",
       "2      3    h  1465000.0     SP       2.5       3.0       2.0  0.0     134.0   \n",
       "3      3    h   850000.0     PI       2.5       3.0       2.0  1.0      94.0   \n",
       "4      4    h  1600000.0     VB       2.5       3.0       1.0  2.0     120.0   \n",
       "\n",
       "   BuildingArea  YearBuilt             Regionname  \n",
       "0           NaN        NaN  Northern Metropolitan  \n",
       "1          79.0     1900.0  Northern Metropolitan  \n",
       "2         150.0     1900.0  Northern Metropolitan  \n",
       "3           NaN        NaN  Northern Metropolitan  \n",
       "4         142.0     2014.0  Northern Metropolitan  "
      ]
     },
     "execution_count": 82,
     "metadata": {},
     "output_type": "execute_result"
    }
   ],
   "source": [
    "newdf = df.drop(['Suburb', 'Address', 'Postcode', 'CouncilArea', 'Lattitude', 'Longtitude', 'Propertycount', 'Date', 'SellerG'], axis =1)\n",
    "newdf.head()"
   ]
  },
  {
   "cell_type": "code",
   "execution_count": null,
   "metadata": {},
   "outputs": [],
   "source": []
  },
  {
   "cell_type": "code",
   "execution_count": 141,
   "metadata": {},
   "outputs": [],
   "source": [
    "from sklearn.impute import SimpleImputer\n",
    "from sklearn.compose import ColumnTransformer \n",
    "from sklearn.pipeline import Pipeline\n",
    "from sklearn.preprocessing import OneHotEncoder\n",
    "import category_encoders as ce \n",
    "from sklearn.preprocessing import StandardScaler, PolynomialFeatures\n",
    "\n",
    "from sklearn.model_selection import train_test_split, cross_val_score, StratifiedKFold, GridSearchCV, RandomizedSearchCV \n",
    "\n",
    "import warnings\n",
    "warnings.filterwarnings('ignore')\n",
    "\n",
    "from sklearn.linear_model import LogisticRegression\n",
    "from sklearn.tree import DecisionTreeClassifier\n",
    "from sklearn.neighbors import KNeighborsClassifier\n",
    "from sklearn.ensemble import RandomForestClassifier\n",
    "\n",
    "from statsmodels.api import OLS\n",
    "from sklearn.linear_model import LinearRegression\n",
    "from sklearn.metrics import r2_score, mean_squared_error, mean_absolute_error\n",
    "\n",
    "from sklearn.feature_selection import RFE\n",
    "\n",
    "from statsmodels.api import OLS\n",
    "\n",
    "import statsmodels.api as sm"
   ]
  },
  {
   "cell_type": "code",
   "execution_count": 112,
   "metadata": {},
   "outputs": [],
   "source": [
    "# Encoding\n",
    "\n",
    "# melakukan impute modus dan binary encoding, untuk feature YearBuilt\n",
    "binary_fill = Pipeline([\n",
    "    ('imputer', SimpleImputer(strategy='most_frequent'))\n",
    "])\n",
    "\n",
    "# column transformer\n",
    "transformer = ColumnTransformer([\n",
    "    ('imputenum', SimpleImputer(strategy='median'), ['BuildingArea']), # melakukan impute median untuk feature BuildingArea\n",
    "    ('onehot', OneHotEncoder(drop='first'), ['Type']),\n",
    "    ('binary_fill', binary_fill, ['YearBuilt']),\n",
    "    ('binary', ce.BinaryEncoder(),['Regionname', 'Method'])\n",
    "], remainder='passthrough')"
   ]
  },
  {
   "cell_type": "code",
   "execution_count": 113,
   "metadata": {},
   "outputs": [],
   "source": []
  },
  {
   "cell_type": "code",
   "execution_count": 114,
   "metadata": {},
   "outputs": [],
   "source": [
    "# Split dataset\n",
    "X = newdf.drop(columns=['Price'])\n",
    "y = newdf['Price']\n",
    "\n",
    "X_train, X_test, y_train, y_test = train_test_split(\n",
    "    X, y,\n",
    "    test_size=0.2,\n",
    "    random_state=2020\n",
    ")"
   ]
  },
  {
   "cell_type": "code",
   "execution_count": null,
   "metadata": {},
   "outputs": [],
   "source": []
  },
  {
   "cell_type": "markdown",
   "metadata": {},
   "source": [
    "## Modeling"
   ]
  },
  {
   "cell_type": "code",
   "execution_count": 119,
   "metadata": {},
   "outputs": [],
   "source": [
    "# model inializing dtc\n",
    "dtc = DecisionTreeClassifier(max_depth=10, min_samples_split=8, random_state=2021, class_weight='balanced')\n",
    "rfe = RFE(estimator=dtc)\n",
    "\n",
    "all_in_pipeline = Pipeline([\n",
    "    ('transformer', transformer),\n",
    "    ('rfe', rfe),\n",
    "    ('clf', dtc)\n",
    "])"
   ]
  },
  {
   "cell_type": "code",
   "execution_count": 125,
   "metadata": {},
   "outputs": [
    {
     "data": {
      "text/plain": [
       "Pipeline(steps=[('transformer',\n",
       "                 ColumnTransformer(remainder='passthrough',\n",
       "                                   transformers=[('imputenum',\n",
       "                                                  SimpleImputer(strategy='median'),\n",
       "                                                  ['BuildingArea']),\n",
       "                                                 ('onehot',\n",
       "                                                  OneHotEncoder(drop='first'),\n",
       "                                                  ['Type']),\n",
       "                                                 ('binary_fill',\n",
       "                                                  Pipeline(steps=[('imputer',\n",
       "                                                                   SimpleImputer(strategy='most_frequent'))]),\n",
       "                                                  ['YearBuilt']),\n",
       "                                                 ('binary', BinaryEncoder(),\n",
       "                                                  ['Regionname', 'Method'])])),\n",
       "                ('rfe',\n",
       "                 RFE(estimator=DecisionTreeClassifier(class_weight='balanced',\n",
       "                                                      max_depth=10,\n",
       "                                                      min_samples_split=8,\n",
       "                                                      random_state=2021))),\n",
       "                ('clf',\n",
       "                 DecisionTreeClassifier(class_weight='balanced', max_depth=10,\n",
       "                                        min_samples_split=8,\n",
       "                                        random_state=2021))])"
      ]
     },
     "execution_count": 125,
     "metadata": {},
     "output_type": "execute_result"
    }
   ],
   "source": [
    "all_in_pipeline.fit(X_train, y_train)"
   ]
  },
  {
   "cell_type": "code",
   "execution_count": 145,
   "metadata": {},
   "outputs": [
    {
     "name": "stdout",
     "output_type": "stream",
     "text": [
      "601499.421441592\n",
      "0.11904488026669635\n"
     ]
    }
   ],
   "source": [
    "import math\n",
    "\n",
    "y_pred = all_in_pipeline.predict(X_test)\n",
    "\n",
    "print(math.sqrt(mean_squared_error(y_test, y_pred))) # nilai rmse dari dtc\n",
    "print(r2_score(y_test, y_pred)) # nilai r2 dari dtc"
   ]
  },
  {
   "cell_type": "markdown",
   "metadata": {},
   "source": [
    "RMSE 601499 berarti akan ada selisih 601499 pada hasil prediksi dan aktualnya."
   ]
  },
  {
   "cell_type": "code",
   "execution_count": 184,
   "metadata": {},
   "outputs": [],
   "source": [
    "# cross validation dtc\n",
    "skfold = StratifiedKFold(n_splits=10)\n",
    "\n",
    "cvs_dtc = cross_val_score(\n",
    "            all_in_pipeline, \n",
    "            X_train,y_train,\n",
    "            cv=skfold,\n",
    "            scoring='neg_root_mean_squared_error')"
   ]
  },
  {
   "cell_type": "code",
   "execution_count": null,
   "metadata": {},
   "outputs": [],
   "source": []
  },
  {
   "cell_type": "code",
   "execution_count": 221,
   "metadata": {},
   "outputs": [],
   "source": [
    "# model inializing knn\n",
    "knn = KNeighborsClassifier(n_neighbors = 5)\n",
    "rfe = RFE(estimator=knn)\n",
    "\n",
    "knn_pipeline = Pipeline([\n",
    "    ('transformer', transformer),\n",
    "    ('clf', knn)\n",
    "])"
   ]
  },
  {
   "cell_type": "code",
   "execution_count": null,
   "metadata": {},
   "outputs": [],
   "source": []
  },
  {
   "cell_type": "code",
   "execution_count": 222,
   "metadata": {},
   "outputs": [
    {
     "data": {
      "text/plain": [
       "Pipeline(steps=[('transformer',\n",
       "                 ColumnTransformer(remainder='passthrough',\n",
       "                                   transformers=[('imputenum',\n",
       "                                                  SimpleImputer(strategy='median'),\n",
       "                                                  ['BuildingArea']),\n",
       "                                                 ('onehot',\n",
       "                                                  OneHotEncoder(drop='first'),\n",
       "                                                  ['Type']),\n",
       "                                                 ('binary_fill',\n",
       "                                                  Pipeline(steps=[('imputer',\n",
       "                                                                   SimpleImputer(strategy='most_frequent'))]),\n",
       "                                                  ['YearBuilt']),\n",
       "                                                 ('binary', BinaryEncoder(),\n",
       "                                                  ['Regionname', 'Method'])])),\n",
       "                ('clf', KNeighborsClassifier())])"
      ]
     },
     "execution_count": 222,
     "metadata": {},
     "output_type": "execute_result"
    }
   ],
   "source": [
    "knn_pipeline.fit(X_train, y_train)"
   ]
  },
  {
   "cell_type": "code",
   "execution_count": 223,
   "metadata": {},
   "outputs": [
    {
     "name": "stdout",
     "output_type": "stream",
     "text": [
      "689881.0030614482\n",
      "-0.15886201599337912\n"
     ]
    }
   ],
   "source": [
    "# knn\n",
    "import math\n",
    "\n",
    "y_pred = knn_pipeline.predict(X_test)\n",
    "\n",
    "print(math.sqrt(mean_squared_error(y_test, y_pred))) # nilai rmse dari knn\n",
    "print(r2_score(y_test, y_pred)) # nilai r2 dari knn"
   ]
  },
  {
   "cell_type": "markdown",
   "metadata": {},
   "source": [
    "Model yang paling baik adalah model DTC, karena nilai RMSE yang lebih kecil. Jadi dalam melakukan model evaluation, juga dipilih RMSE.\n",
    "RMSE 689881 berarti akan ada selisih 689881 pada hasil prediksi dan aktualnya."
   ]
  },
  {
   "cell_type": "code",
   "execution_count": 216,
   "metadata": {},
   "outputs": [],
   "source": [
    "# cross validation knn\n",
    "skfold = StratifiedKFold(n_splits=10)\n",
    "\n",
    "cvs_knn = cross_val_score(\n",
    "            knn_pipeline, \n",
    "            X_train,y_train,\n",
    "            cv=skfold,\n",
    "            scoring='neg_root_mean_squared_error')"
   ]
  },
  {
   "cell_type": "code",
   "execution_count": 217,
   "metadata": {},
   "outputs": [
    {
     "data": {
      "image/png": "[encoded data removed]",
      "text/plain": [
       "<Figure size 432x288 with 1 Axes>"
      ]
     },
     "metadata": {
      "needs_background": "light"
     },
     "output_type": "display_data"
    }
   ],
   "source": [
    "import matplotlib.pyplot as plt\n",
    "\n",
    "plt.plot(range(len(cvs_dtc)), cvs_dtc, label='DTC')\n",
    "plt.plot(range(len(cvs_knn)), cvs_knn, label='KNN')\n",
    "# plt.plot(range(len(tree_cv)), tree_cv, label='DTC')\n",
    "plt.grid()\n",
    "plt.legend()\n",
    "plt.show()"
   ]
  },
  {
   "cell_type": "code",
   "execution_count": 206,
   "metadata": {},
   "outputs": [
    {
     "name": "stdout",
     "output_type": "stream",
     "text": [
      "-758543.1694849193\n",
      "-686233.003092061\n"
     ]
    }
   ],
   "source": [
    "print(cvs_dtc.mean())\n",
    "print(cvs_knn.mean())"
   ]
  },
  {
   "cell_type": "code",
   "execution_count": 207,
   "metadata": {},
   "outputs": [
    {
     "name": "stdout",
     "output_type": "stream",
     "text": [
      "112050.23485448267\n",
      "44261.36280158372\n"
     ]
    }
   ],
   "source": [
    "print(cvs_dtc.std())\n",
    "print(cvs_knn.std())"
   ]
  },
  {
   "cell_type": "markdown",
   "metadata": {},
   "source": [
    "Berdasarkan standard deviasi dari cross val score, model dtc lebih besar. Berdasarkan grafik, dapat dilihat juga dtc kurang stabil.\n",
    "Model DTC ini juga termasuk Underfitting karena nilai r2 yang hanya 0.11 (sangat jauh dari 1) sehingga tidak merepresentasikan data dengan baik, error training dan testing buruk."
   ]
  },
  {
   "cell_type": "markdown",
   "metadata": {},
   "source": [
    "## D. Model Evaluation"
   ]
  },
  {
   "cell_type": "code",
   "execution_count": 229,
   "metadata": {},
   "outputs": [],
   "source": [
    "hyperparam_space = {\n",
    "    'clf__max_depth': [2,3,4,5,6,7],\n",
    "    'clf__min_samples_split': [4,5,6,7,8,9,10],\n",
    "    'clf__criterion': ['entropy', 'gini'],\n",
    "    'rfe__n_features_to_select': [None,5,6,7,8],\n",
    "    'transformer__imputenum__strategy': ['median', 'mean']\n",
    "}"
   ]
  },
  {
   "cell_type": "code",
   "execution_count": 230,
   "metadata": {},
   "outputs": [],
   "source": [
    "# Hyperparameter Tuning Model DTC\n",
    "random_search = RandomizedSearchCV(\n",
    "    all_in_pipeline,\n",
    "    param_distributions = hyperparam_space,\n",
    "    n_iter=180,\n",
    "    cv = StratifiedKFold(n_splits=5),\n",
    "    scoring = 'neg_root_mean_squared_error',\n",
    "    verbose = 1,\n",
    "    n_jobs = -1\n",
    ")\n"
   ]
  },
  {
   "cell_type": "code",
   "execution_count": 231,
   "metadata": {},
   "outputs": [
    {
     "name": "stdout",
     "output_type": "stream",
     "text": [
      "Fitting 5 folds for each of 180 candidates, totalling 900 fits\n"
     ]
    }
   ],
   "source": [
    "dtc_tuned = random_search.fit(X_train, y_train)"
   ]
  },
  {
   "cell_type": "code",
   "execution_count": null,
   "metadata": {},
   "outputs": [],
   "source": []
  },
  {
   "cell_type": "code",
   "execution_count": 232,
   "metadata": {},
   "outputs": [
    {
     "name": "stdout",
     "output_type": "stream",
     "text": [
      "620142.9491271469\n",
      "0.063587987182816\n"
     ]
    }
   ],
   "source": [
    "import math\n",
    "\n",
    "y_pred_tuned = dtc_tuned.predict(X_test)\n",
    "\n",
    "print(math.sqrt(mean_squared_error(y_test, y_pred_tuned))) # nilai rmse dari dtc\n",
    "print(r2_score(y_test, y_pred_tuned)) # nilai r2 dari dtc"
   ]
  },
  {
   "cell_type": "markdown",
   "metadata": {},
   "source": [
    "Setelah dilakukan tuning, model DTC mengalami peningkatan RMSE dan penurunan r2.\n",
    "Sehingga model terbaik untuk memprediksi Harga Rumah adalah DTC tanpa dilakukan tuning (karena nilai RMSE yang paling kecil)."
   ]
  },
  {
   "cell_type": "code",
   "execution_count": null,
   "metadata": {},
   "outputs": [],
   "source": []
  },
  {
   "cell_type": "code",
   "execution_count": null,
   "metadata": {},
   "outputs": [],
   "source": []
  },
  {
   "cell_type": "code",
   "execution_count": 245,
   "metadata": {},
   "outputs": [],
   "source": [
    "# hyperparam_spaceknn = {'n_neighbors':[5,6,7,8,9,10],\n",
    "#           'leaf_size':[1,2,3,5],\n",
    "#           'weights':['uniform', 'distance'],\n",
    "#           'algorithm':['auto', 'ball_tree','kd_tree','brute'],\n",
    "#           'n_jobs':[-1]}"
   ]
  },
  {
   "cell_type": "code",
   "execution_count": 246,
   "metadata": {},
   "outputs": [],
   "source": [
    "# # Hyperparameter Tuning Model KNN\n",
    "# random_search_knn = RandomizedSearchCV(\n",
    "#     knn_pipeline,\n",
    "#     param_distributions = hyperparam_spaceknn,\n",
    "#     n_iter=180,\n",
    "#     cv = StratifiedKFold(n_splits=5),\n",
    "#     scoring = 'neg_root_mean_squared_error',\n",
    "#     verbose = 1,\n",
    "#     n_jobs = -1\n",
    "# )\n"
   ]
  },
  {
   "cell_type": "code",
   "execution_count": null,
   "metadata": {},
   "outputs": [],
   "source": [
    "# knn_tuned = random_search_knn.fit(X_train, y_train)"
   ]
  },
  {
   "cell_type": "code",
   "execution_count": null,
   "metadata": {},
   "outputs": [],
   "source": [
    "# import math\n",
    "\n",
    "# y_pred_knntuned = knn_tuned.predict(X_test)\n",
    "\n",
    "# print(math.sqrt(mean_squared_error(y_test, y_pred_knntuned))) # nilai rmse dari knn\n",
    "# print(r2_score(y_test, y_pred_knntuned)) # nilai r2 dari knn"
   ]
  },
  {
   "cell_type": "code",
   "execution_count": null,
   "metadata": {},
   "outputs": [],
   "source": []
  },
  {
   "cell_type": "code",
   "execution_count": null,
   "metadata": {},
   "outputs": [],
   "source": []
  }
 ],
 "metadata": {
  "kernelspec": {
   "display_name": "Python 3",
   "language": "python",
   "name": "python3"
  },
  "language_info": {
   "codemirror_mode": {
    "name": "ipython",
    "version": 3
   },
   "file_extension": ".py",
   "mimetype": "text/x-python",
   "name": "python",
   "nbconvert_exporter": "python",
   "pygments_lexer": "ipython3",
   "version": "3.8.5"
  }
 },
 "nbformat": 4,
 "nbformat_minor": 4
}
